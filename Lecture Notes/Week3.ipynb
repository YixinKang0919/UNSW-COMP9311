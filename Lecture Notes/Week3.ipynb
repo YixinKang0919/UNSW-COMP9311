{
 "cells": [
  {
   "cell_type": "markdown",
   "metadata": {},
   "source": [
    "# Week 3: SQL \n",
    "\n",
    "## SQL-99\n",
    "* SQL = Structured Query Language \n",
    "* language for DBMS\n",
    "* Based on relational algebra \n",
    "\n",
    "### DDL \n",
    "* CREATE TABLE, DROP TABLE\n",
    "\n",
    "### DML \n",
    "* SELECT: WHERE, GOURP BY,ORDER BY, HAVING \n",
    "* INSERT,DELETE, UPDATE, ALTER, ...\n",
    "\n",
    "Keywords can refer to https://www.postgresql.org/docs/current/sql-keywordsappendix.html .\n",
    "\n",
    "## Data Type \n",
    "* Numeric & String & Date\n",
    "* The NULL value is a member of all data type, any value compare with NULL will be NULL\n",
    "\n",
    "\n",
    "### String operators\n",
    "* string||string --concatenate \n",
    "* LENGTH(string)\n",
    "* SUBSTR(string,start,length)\n",
    "* str LIKE pattern -- match string to pattern\n",
    "\n",
    "> * _ matches any single char\n",
    "> * % matches zero or more char\n",
    "\n",
    "### SQL Dates\n",
    "* Format -- DD-MM--YYYY\n",
    "\n",
    "### Convert data types\n",
    "\n",
    "### Tuple and Set --(val1, val2, val3)\n",
    "\n"
   ]
  },
  {
   "cell_type": "markdown",
   "metadata": {},
   "source": [
    "## From Relation Algebra to SQL ---FOR REVISION\n",
    "* "
   ]
  },
  {
   "cell_type": "markdown",
   "metadata": {},
   "source": [
    "## DISTINCT -- remove duplicate "
   ]
  }
 ],
 "metadata": {
  "kernelspec": {
   "display_name": "Python 3",
   "language": "python",
   "name": "python3"
  },
  "language_info": {
   "codemirror_mode": {
    "name": "ipython",
    "version": 3
   },
   "file_extension": ".py",
   "mimetype": "text/x-python",
   "name": "python",
   "nbconvert_exporter": "python",
   "pygments_lexer": "ipython3",
   "version": "3.7.3"
  }
 },
 "nbformat": 4,
 "nbformat_minor": 2
}
