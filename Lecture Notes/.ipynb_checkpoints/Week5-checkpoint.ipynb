{
 "cells": [
  {
   "cell_type": "markdown",
   "metadata": {},
   "source": [
    "# Week 5: Functional Dependence\n",
    "\n",
    "## How good is your DB design\n",
    "\n",
    "* Conceptual Level\n",
    "* Physical Level\n",
    "\n",
    "- Information Preservation\n",
    "- Minimum Redundancy \n",
    "\n",
    "> Redundancy is storing a piece of data more than once and would cause update anomalies"
   ]
  },
  {
   "cell_type": "markdown",
   "metadata": {},
   "source": [
    "## Derive a Theory for What is good\n",
    "- decide whether is if R is in good form\n",
    "- if not decompose it\n",
    "- the decomposition is a lossless\n"
   ]
  },
  {
   "cell_type": "markdown",
   "metadata": {},
   "source": [
    "## Functional Dependenceies\n",
    "A functional dependency describes a relation between attributes\n",
    "\n",
    "t1[α] = t2 [α] ⇒ t1[β ] = t2 [β ]\n",
    "\n",
    "α → β\n",
    "\n",
    "### Armstrong's Axioms\n",
    "\n",
    "- reflexivity: if β ⊆ α, then α → β\n",
    "- augmentation: if α → β, then γ α → γ β\n",
    "- transitivity: if α → β, and β → γ, then α → γ\n",
    "- additivity: If α → β holds and α → γ holds, then α → β γ holds \n",
    "- projectivity: If α → β γ holds, then α → β holds and α → γ holds \n",
    "- pseudo-transitivity: If α → β holds and γ β → δ holds, then α γ → δ holds\n",
    "\n",
    "## Legal Extensions of R\n",
    "The constraints are called legal relation states of R"
   ]
  },
  {
   "cell_type": "markdown",
   "metadata": {},
   "source": [
    "## Dependency Diagram\n",
    "\n"
   ]
  },
  {
   "cell_type": "code",
   "execution_count": null,
   "metadata": {},
   "outputs": [],
   "source": []
  }
 ],
 "metadata": {
  "kernelspec": {
   "display_name": "Python 3",
   "language": "python",
   "name": "python3"
  },
  "language_info": {
   "codemirror_mode": {
    "name": "ipython",
    "version": 3
   },
   "file_extension": ".py",
   "mimetype": "text/x-python",
   "name": "python",
   "nbconvert_exporter": "python",
   "pygments_lexer": "ipython3",
   "version": "3.7.3"
  }
 },
 "nbformat": 4,
 "nbformat_minor": 2
}
