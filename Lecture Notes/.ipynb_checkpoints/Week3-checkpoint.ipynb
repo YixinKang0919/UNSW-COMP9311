{
 "cells": [
  {
   "cell_type": "markdown",
   "metadata": {},
   "source": [
    "# Week 3: SQL \n",
    "\n",
    "## SQL-99\n",
    "* SQL = Structured Query Language \n",
    "* language for DBMS\n",
    "* Based on relational algebra \n",
    "\n",
    "### DDL \n",
    "* CREATE TABLE, DROP TABLE\n",
    "\n",
    "### DML \n",
    "* SELECT: WHERE, GOURP BY,ORDER BY, HAVING \n",
    "* INSERT,DELETE, UPDATE, ALTER, ...\n",
    "\n",
    "Keywords can refer to https://www.postgresql.org/docs/current/sql-keywordsappendix.html .\n",
    "\n",
    "## Data Type \n",
    "* Numeric & String & Date\n",
    "* The NULL value is a member of all data type, any value compare with NULL will be NULL\n",
    "\n",
    "\n",
    "### String operators\n",
    "* string||string --concatenate \n",
    "* LENGTH(string)\n",
    "* SUBSTR(string,start,length)\n",
    "* str LIKE pattern -- match string to pattern\n",
    "\n",
    "> * _ matches any single char\n",
    "> * % matches zero or more char\n",
    "\n",
    "### SQL Dates\n",
    "* Format -- DD-MM--YYYY\n",
    "\n",
    "### Convert data types\n",
    "\n",
    "### Tuple and Set --(val1, val2, val3)\n",
    "\n"
   ]
  },
  {
   "cell_type": "markdown",
   "metadata": {},
   "source": [
    "## From Relation Algebra to SQL ---FOR REVISION\n",
    "* "
   ]
  },
  {
   "cell_type": "markdown",
   "metadata": {},
   "source": [
    "## DISTINCT -- remove duplicate "
   ]
  },
  {
   "cell_type": "markdown",
   "metadata": {},
   "source": [
    "## DML\n",
    "* Insert\n",
    "* Delete\n",
    "* Update"
   ]
  },
  {
   "cell_type": "markdown",
   "metadata": {},
   "source": [
    "## SQL Views\n",
    "Tables are base relations.\n",
    "\n",
    "Views are ***virtual relations*** in SQL.\n",
    "\n",
    "Views are derived from base relations and does not take up space in the DBMS. Base relations are physically stored in the DBMS\n",
    "\n",
    "* View are difined via:\n",
    "``` CREATE VIEW View__name AS Queru ```\n",
    "* Views may be removed via:\n",
    "``` DROP VIEW View_name```\n",
    "\n",
    "> Views will update itself whenever the base relation it depends changes"
   ]
  },
  {
   "cell_type": "markdown",
   "metadata": {},
   "source": [
    "## Schema Change in SQL \n",
    "\n",
    "### Add New Column\n",
    "``` ALTER TABLE Bars```\n",
    "\n",
    "``` ADD phone char(10) DEFAULT 'Unlisted'```\n",
    "\n",
    "### Modify Column\n",
    "``` ALTER TABLE Persons DROP PRIMARY KEY;```\n",
    "\n",
    "OR\n",
    "\n",
    "``` ALTER TABLE Persons ADD PRIMARY KEY (ID);```\n"
   ]
  },
  {
   "cell_type": "markdown",
   "metadata": {},
   "source": [
    "## Create Index\n",
    "\n",
    "```CREATE INDEX index_name```\n",
    "\n",
    "```ON table_name(column1, column2,...)```\n",
    "\n"
   ]
  },
  {
   "cell_type": "code",
   "execution_count": null,
   "metadata": {},
   "outputs": [],
   "source": []
  }
 ],
 "metadata": {
  "kernelspec": {
   "display_name": "Python 3 (ipykernel)",
   "language": "python",
   "name": "python3"
  },
  "language_info": {
   "codemirror_mode": {
    "name": "ipython",
    "version": 3
   },
   "file_extension": ".py",
   "mimetype": "text/x-python",
   "name": "python",
   "nbconvert_exporter": "python",
   "pygments_lexer": "ipython3",
   "version": "3.10.12"
  }
 },
 "nbformat": 4,
 "nbformat_minor": 4
}
