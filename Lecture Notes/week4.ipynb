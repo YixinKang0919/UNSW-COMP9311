{
 "cells": [
  {
   "cell_type": "markdown",
   "id": "183f0da8-667c-449e-b17d-e257c258da4a",
   "metadata": {},
   "source": [
    "# Week 4 Extending SQL by PostgreSQL"
   ]
  },
  {
   "cell_type": "markdown",
   "id": "30af91b1-f27c-4746-881b-eaa3a82d6a64",
   "metadata": {},
   "source": [
    "## Ways that SQL could be extended\n",
    "\n",
    "* To accurately express the “business logic“ of withdrawing money, we need facilities like conditional controls"
   ]
  },
  {
   "cell_type": "markdown",
   "id": "1389a4ba-fa88-4106-9120-35a0fedc1a19",
   "metadata": {},
   "source": [
    "## A Stored Procedure Approach"
   ]
  },
  {
   "cell_type": "markdown",
   "id": "499b4a8e-202a-451f-918f-0832fab56aa9",
   "metadata": {},
   "source": [
    "## SQL/PSM\n"
   ]
  },
  {
   "cell_type": "markdown",
   "id": "65e60e95-b098-42b7-8414-1d05dd79065e",
   "metadata": {},
   "source": [
    "## PostgreSQL\n",
    "\n",
    "A PostgreSQL-specific language integrating features of:\n",
    "* procedural programming (PL)\n",
    "* SQL programming\n",
    "\n",
    "### User-defined Data Types\n",
    "PostgreSQL also provides mechanisms to define new types\n",
    "* basic types: CREATE DOMAIN\n",
    "* tuple types: CREATE TYPE\n",
    "\n",
    "> Example:\n",
    "> \n",
    "> Create Domain UnswCourseCode as text\n",
    "> \n",
    "> check (value ~ '[A-Z]{4}[0-9]{4}' );\n",
    "\n",
    "### PostgreSQL: SQL Functions\n",
    "\n",
    "```\n",
    "CREATE OR REPLACE FUNCTION\n",
    "funcName(arg1type, arg2type, ....)\n",
    "RETURNS rettype\n",
    "AS $$\n",
    "SQL statements\n",
    "$$ LANGUAGE sql;\n",
    "```\n",
    "\n",
    "Example:\n",
    "```\n",
    "-- max price of specified beer\n",
    "create or replace function\n",
    "    maxPrice(text) returns float\n",
    "as $$\n",
    "    select max(price) from Sells where beer = $1;\n",
    "$$ language sql;\n",
    "```\n",
    "using positional notation ($1, $2, ...)\n",
    "\n",
    "### PL/pgSQL Function Parameters\n",
    "\n",
    "```\n",
    "    CREATE OR REPLACE FUNCTION\n",
    "        funcName(param1, param2, ....)\n",
    "    RETURNS rettype\n",
    "    AS $$\n",
    "    DECLARE\n",
    "        variable declarations\n",
    "    BEGIN\n",
    "        code for function\n",
    "    END;\n",
    "    $$ LANGUAGE plpgsql;\n",
    "```\n",
    "\n",
    "> Note: the entire function body is a single SQL string\n",
    "\n",
    "Example:\n",
    "```\n",
    "    CREATE OR REPLACE FUNCTION\n",
    "        add(x text, y text) RETURNS text\n",
    "    AS $$\n",
    "    DECLARE\n",
    "        result text; -- local variable\n",
    "    BEGIN\n",
    "        result := x||''''||y;\n",
    "        return result;\n",
    "    END;\n",
    "    $$ LANGUAGE plpgsql;\n",
    "```"
   ]
  },
  {
   "cell_type": "markdown",
   "id": "b2d6d299-f65c-49b8-bd07-9e7df1f0e59c",
   "metadata": {},
   "source": [
    "### Using PL/pgSQL Functions\n",
    "* As part of a SELECT statement\n",
    "\n",
    "```\n",
    "select myFunction ( arg1 , arg2 );\n",
    "select * from myTableFunction ( arg1 , arg2 );\n",
    "```\n",
    "\n",
    "* As part of the execution of another PLpgSQL function\n",
    "```\n",
    "PERFORM myVoidFunction ( arg1 , arg2 );\n",
    "result := myOtherFunction ( arg1 );\n",
    "\n",
    "```\n",
    "* Automatically, via an insert/delete/update trigger\n",
    "\n",
    "```\n",
    "create trigger T before update on R\n",
    "for each row execute procedure myCheck ();\n",
    "```"
   ]
  },
  {
   "cell_type": "markdown",
   "id": "8b31c926-c755-40ce-975f-3d970134f5b3",
   "metadata": {},
   "source": [
    "## Declaring Data Types\n",
    "\n",
    "```\n",
    "account Accounts%ROWTYPE ;\n",
    "```\n",
    "\n",
    "```\n",
    "account.branchName%TYPE\n",
    "```"
   ]
  },
  {
   "cell_type": "markdown",
   "id": "1b0a65a4-387f-4434-83bc-a2f4cbab137f",
   "metadata": {},
   "source": [
    "## Control Structures in PL/pgSQL\n",
    "\n",
    "### Assignment \n",
    "variable := expression;\n",
    "\n",
    "Example:\n",
    "```\n",
    "    tax := subtotal * 0.06;\n",
    "    my_record.user_id := 20;\n",
    "```\n",
    "\n",
    "### Conditionals\n",
    "* IF ... THEN\n",
    "* IF ... THEN ... ELSE\n",
    "* IF ... THEN ... ELSIF ... THEN ... ELSE\n",
    "Example:\n",
    "\n",
    "```\n",
    "IF v_user_id > 0 THEN\n",
    "UPDATE users SET email = v_email WHERE user_id =\n",
    "v_user_id; END IF;\n",
    "```\n"
   ]
  },
  {
   "cell_type": "markdown",
   "id": "a48a9cf6-cbac-4ce8-b1f5-f548677509e0",
   "metadata": {},
   "source": [
    "```\n",
    "create function\n",
    "        withdraw(acctNum text, amount integer) returns text as $$\n",
    "declare bal integer;\n",
    "begin\n",
    "        select balance into bal\n",
    "        from Accounts\n",
    "        where acctNo = acctNum;\n",
    "        if (bal < amount) then\n",
    "                return 'Insufficient Funds';\n",
    "        else\n",
    "                update Accounts\n",
    "                set balance = balance - amount\n",
    "                where acctNo = acctNum;\n",
    "                select balance into bal\n",
    "                from Accounts where acctNo = acctNum;\n",
    "                return 'New Balance: ' || bal;\n",
    "        end if;\n",
    "end;\n",
    "$$ language plpgsql;\n",
    "```"
   ]
  },
  {
   "cell_type": "markdown",
   "id": "79314e40-4a04-4f8f-b32f-6258bba3e7e7",
   "metadata": {},
   "source": [
    "## SELECT ... INTO"
   ]
  },
  {
   "cell_type": "code",
   "execution_count": null,
   "id": "4721c5fc-196d-463b-8f6f-f8c5b0e3cd02",
   "metadata": {},
   "outputs": [],
   "source": []
  }
 ],
 "metadata": {
  "kernelspec": {
   "display_name": "Python 3 (ipykernel)",
   "language": "python",
   "name": "python3"
  },
  "language_info": {
   "codemirror_mode": {
    "name": "ipython",
    "version": 3
   },
   "file_extension": ".py",
   "mimetype": "text/x-python",
   "name": "python",
   "nbconvert_exporter": "python",
   "pygments_lexer": "ipython3",
   "version": "3.10.12"
  }
 },
 "nbformat": 4,
 "nbformat_minor": 5
}
